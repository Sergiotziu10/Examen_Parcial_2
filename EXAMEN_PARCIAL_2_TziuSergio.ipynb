{
 "cells": [
  {
   "cell_type": "markdown",
   "id": "lonely-television",
   "metadata": {},
   "source": [
    "# Primero se tendrá que importar Panda."
   ]
  },
  {
   "cell_type": "code",
   "execution_count": 1,
   "id": "informal-controversy",
   "metadata": {},
   "outputs": [],
   "source": [
    "import pandas as pd"
   ]
  },
  {
   "cell_type": "markdown",
   "id": "lasting-idaho",
   "metadata": {},
   "source": [
    "## Seguidamente definimos una variable, para abrir el archivo directamente en un DataFrame utilizaremos el comando pd.read_csv, posteriormente dentro de los paréntesis llevara unas comillas para indicar la ruta de dicho archivo con la extensión .CSV."
   ]
  },
  {
   "cell_type": "code",
   "execution_count": 2,
   "id": "metropolitan-australia",
   "metadata": {},
   "outputs": [],
   "source": [
    "df = pd.read_csv('Examen/data_by_artist.csv')"
   ]
  },
  {
   "cell_type": "markdown",
   "id": "varied-collective",
   "metadata": {},
   "source": [
    "## En mi caso para poder desplazarme fácilmente, use el comando .info() para que devuelva información como (número de filas, número de columnas, índices, tipo de las columnas y memoria usado). La df es variable."
   ]
  },
  {
   "cell_type": "code",
   "execution_count": 3,
   "id": "latter-binding",
   "metadata": {},
   "outputs": [
    {
     "name": "stdout",
     "output_type": "stream",
     "text": [
      "<class 'pandas.core.frame.DataFrame'>\n",
      "RangeIndex: 32539 entries, 0 to 32538\n",
      "Data columns (total 15 columns):\n",
      " #   Column            Non-Null Count  Dtype  \n",
      "---  ------            --------------  -----  \n",
      " 0   artists           32539 non-null  object \n",
      " 1   acousticness      32539 non-null  float64\n",
      " 2   danceability      32539 non-null  float64\n",
      " 3   duration_ms       32539 non-null  float64\n",
      " 4   energy            32539 non-null  float64\n",
      " 5   instrumentalness  32539 non-null  float64\n",
      " 6   liveness          32539 non-null  float64\n",
      " 7   loudness          32539 non-null  float64\n",
      " 8   speechiness       32539 non-null  float64\n",
      " 9   tempo             32539 non-null  float64\n",
      " 10  valence           32539 non-null  float64\n",
      " 11  popularity        32539 non-null  float64\n",
      " 12  key               32539 non-null  int64  \n",
      " 13  mode              32539 non-null  int64  \n",
      " 14  count             32539 non-null  int64  \n",
      "dtypes: float64(11), int64(3), object(1)\n",
      "memory usage: 3.7+ MB\n"
     ]
    }
   ],
   "source": [
    "df.info()"
   ]
  },
  {
   "cell_type": "markdown",
   "id": "elementary-affect",
   "metadata": {},
   "source": [
    "# Muestra las primeros 10 artistas alfabeticamente\n",
    "## El siguiente comando \"variable.head(10)\" Lee las primeras 10 líneas de la tabla de artistas. si queremos que lea las 10 últimas tendremos que insertar el comando \"variable.tail(10)\"."
   ]
  },
  {
   "cell_type": "code",
   "execution_count": 4,
   "id": "pending-maine",
   "metadata": {},
   "outputs": [],
   "source": [
    "df = df.head(10).sort_values(by='artists', ascending=True)"
   ]
  },
  {
   "cell_type": "code",
   "execution_count": 5,
   "id": "widespread-pregnancy",
   "metadata": {},
   "outputs": [
    {
     "data": {
      "text/plain": [
       "0                     \"Cats\" 1981 Original London Cast\n",
       "1                            \"Cats\" 1983 Broadway Cast\n",
       "2          \"Fiddler On The Roof” Motion Picture Chorus\n",
       "3       \"Fiddler On The Roof” Motion Picture Orchestra\n",
       "4    \"Joseph And The Amazing Technicolor Dreamcoat\"...\n",
       "5    \"Joseph And The Amazing Technicolor Dreamcoat\"...\n",
       "6                               \"Mama\" Helen Teagarden\n",
       "7                              \"Test for Victor Young\"\n",
       "8                                  \"Weird Al\" Yankovic\n",
       "9                                               $0dg0d\n",
       "Name: artists, dtype: object"
      ]
     },
     "execution_count": 5,
     "metadata": {},
     "output_type": "execute_result"
    }
   ],
   "source": [
    "df['artists']"
   ]
  },
  {
   "cell_type": "markdown",
   "id": "industrial-northern",
   "metadata": {},
   "source": [
    "# Datos que se pueden relacionar\n",
    "## Los posibles datos que puedan relacionarse pienso que son \"varible.describe()\" o \"la variable\" que es un método que devuelve información estadística de los datos del dataframe o de la serie o bien devuelve un dataframe, y el \"variable.artists.count()\" sirve para poder contar cuando información existe en una columna especifica en mi caso fue la columna Artistas."
   ]
  },
  {
   "cell_type": "code",
   "execution_count": 6,
   "id": "together-transsexual",
   "metadata": {},
   "outputs": [
    {
     "data": {
      "text/html": [
       "<div>\n",
       "<style scoped>\n",
       "    .dataframe tbody tr th:only-of-type {\n",
       "        vertical-align: middle;\n",
       "    }\n",
       "\n",
       "    .dataframe tbody tr th {\n",
       "        vertical-align: top;\n",
       "    }\n",
       "\n",
       "    .dataframe thead th {\n",
       "        text-align: right;\n",
       "    }\n",
       "</style>\n",
       "<table border=\"1\" class=\"dataframe\">\n",
       "  <thead>\n",
       "    <tr style=\"text-align: right;\">\n",
       "      <th></th>\n",
       "      <th>artists</th>\n",
       "      <th>acousticness</th>\n",
       "      <th>danceability</th>\n",
       "      <th>duration_ms</th>\n",
       "      <th>energy</th>\n",
       "      <th>instrumentalness</th>\n",
       "      <th>liveness</th>\n",
       "      <th>loudness</th>\n",
       "      <th>speechiness</th>\n",
       "      <th>tempo</th>\n",
       "      <th>valence</th>\n",
       "      <th>popularity</th>\n",
       "      <th>key</th>\n",
       "      <th>mode</th>\n",
       "      <th>count</th>\n",
       "    </tr>\n",
       "  </thead>\n",
       "  <tbody>\n",
       "    <tr>\n",
       "      <th>0</th>\n",
       "      <td>\"Cats\" 1981 Original London Cast</td>\n",
       "      <td>0.598500</td>\n",
       "      <td>0.470100</td>\n",
       "      <td>267072.000000</td>\n",
       "      <td>0.376203</td>\n",
       "      <td>0.010261</td>\n",
       "      <td>0.283050</td>\n",
       "      <td>-14.434300</td>\n",
       "      <td>0.209150</td>\n",
       "      <td>114.128800</td>\n",
       "      <td>0.358320</td>\n",
       "      <td>38.200000</td>\n",
       "      <td>5</td>\n",
       "      <td>1</td>\n",
       "      <td>10</td>\n",
       "    </tr>\n",
       "    <tr>\n",
       "      <th>1</th>\n",
       "      <td>\"Cats\" 1983 Broadway Cast</td>\n",
       "      <td>0.862538</td>\n",
       "      <td>0.441731</td>\n",
       "      <td>287280.000000</td>\n",
       "      <td>0.406808</td>\n",
       "      <td>0.081158</td>\n",
       "      <td>0.315215</td>\n",
       "      <td>-10.690000</td>\n",
       "      <td>0.176212</td>\n",
       "      <td>103.044154</td>\n",
       "      <td>0.268865</td>\n",
       "      <td>31.538462</td>\n",
       "      <td>5</td>\n",
       "      <td>1</td>\n",
       "      <td>26</td>\n",
       "    </tr>\n",
       "    <tr>\n",
       "      <th>2</th>\n",
       "      <td>\"Fiddler On The Roof” Motion Picture Chorus</td>\n",
       "      <td>0.856571</td>\n",
       "      <td>0.348286</td>\n",
       "      <td>328920.000000</td>\n",
       "      <td>0.286571</td>\n",
       "      <td>0.024593</td>\n",
       "      <td>0.325786</td>\n",
       "      <td>-15.230714</td>\n",
       "      <td>0.118514</td>\n",
       "      <td>77.375857</td>\n",
       "      <td>0.354857</td>\n",
       "      <td>34.571429</td>\n",
       "      <td>0</td>\n",
       "      <td>1</td>\n",
       "      <td>7</td>\n",
       "    </tr>\n",
       "    <tr>\n",
       "      <th>3</th>\n",
       "      <td>\"Fiddler On The Roof” Motion Picture Orchestra</td>\n",
       "      <td>0.884926</td>\n",
       "      <td>0.425074</td>\n",
       "      <td>262890.962963</td>\n",
       "      <td>0.245770</td>\n",
       "      <td>0.073587</td>\n",
       "      <td>0.275481</td>\n",
       "      <td>-15.639370</td>\n",
       "      <td>0.123200</td>\n",
       "      <td>88.667630</td>\n",
       "      <td>0.372030</td>\n",
       "      <td>34.407407</td>\n",
       "      <td>0</td>\n",
       "      <td>1</td>\n",
       "      <td>27</td>\n",
       "    </tr>\n",
       "    <tr>\n",
       "      <th>4</th>\n",
       "      <td>\"Joseph And The Amazing Technicolor Dreamcoat\"...</td>\n",
       "      <td>0.510714</td>\n",
       "      <td>0.467143</td>\n",
       "      <td>270436.142857</td>\n",
       "      <td>0.488286</td>\n",
       "      <td>0.009400</td>\n",
       "      <td>0.195000</td>\n",
       "      <td>-10.236714</td>\n",
       "      <td>0.098543</td>\n",
       "      <td>122.835857</td>\n",
       "      <td>0.482286</td>\n",
       "      <td>42.000000</td>\n",
       "      <td>5</td>\n",
       "      <td>1</td>\n",
       "      <td>7</td>\n",
       "    </tr>\n",
       "    <tr>\n",
       "      <th>5</th>\n",
       "      <td>\"Joseph And The Amazing Technicolor Dreamcoat\"...</td>\n",
       "      <td>0.591167</td>\n",
       "      <td>0.484333</td>\n",
       "      <td>218504.500000</td>\n",
       "      <td>0.300608</td>\n",
       "      <td>0.007042</td>\n",
       "      <td>0.176067</td>\n",
       "      <td>-18.579500</td>\n",
       "      <td>0.104958</td>\n",
       "      <td>122.517833</td>\n",
       "      <td>0.424500</td>\n",
       "      <td>33.166667</td>\n",
       "      <td>9</td>\n",
       "      <td>1</td>\n",
       "      <td>24</td>\n",
       "    </tr>\n",
       "    <tr>\n",
       "      <th>6</th>\n",
       "      <td>\"Mama\" Helen Teagarden</td>\n",
       "      <td>0.725000</td>\n",
       "      <td>0.637000</td>\n",
       "      <td>135533.000000</td>\n",
       "      <td>0.512000</td>\n",
       "      <td>0.186000</td>\n",
       "      <td>0.426000</td>\n",
       "      <td>-20.615000</td>\n",
       "      <td>0.210000</td>\n",
       "      <td>134.819000</td>\n",
       "      <td>0.885000</td>\n",
       "      <td>0.000000</td>\n",
       "      <td>8</td>\n",
       "      <td>1</td>\n",
       "      <td>2</td>\n",
       "    </tr>\n",
       "    <tr>\n",
       "      <th>7</th>\n",
       "      <td>\"Test for Victor Young\"</td>\n",
       "      <td>0.927000</td>\n",
       "      <td>0.734000</td>\n",
       "      <td>175693.000000</td>\n",
       "      <td>0.474000</td>\n",
       "      <td>0.076200</td>\n",
       "      <td>0.737000</td>\n",
       "      <td>-10.544000</td>\n",
       "      <td>0.256000</td>\n",
       "      <td>132.788000</td>\n",
       "      <td>0.902000</td>\n",
       "      <td>3.000000</td>\n",
       "      <td>10</td>\n",
       "      <td>1</td>\n",
       "      <td>2</td>\n",
       "    </tr>\n",
       "    <tr>\n",
       "      <th>8</th>\n",
       "      <td>\"Weird Al\" Yankovic</td>\n",
       "      <td>0.186821</td>\n",
       "      <td>0.650792</td>\n",
       "      <td>218352.962264</td>\n",
       "      <td>0.693189</td>\n",
       "      <td>0.000045</td>\n",
       "      <td>0.160926</td>\n",
       "      <td>-9.691151</td>\n",
       "      <td>0.082275</td>\n",
       "      <td>132.876604</td>\n",
       "      <td>0.764585</td>\n",
       "      <td>32.867925</td>\n",
       "      <td>9</td>\n",
       "      <td>1</td>\n",
       "      <td>106</td>\n",
       "    </tr>\n",
       "    <tr>\n",
       "      <th>9</th>\n",
       "      <td>$0dg0d</td>\n",
       "      <td>0.110000</td>\n",
       "      <td>0.732000</td>\n",
       "      <td>160171.000000</td>\n",
       "      <td>0.822000</td>\n",
       "      <td>0.000009</td>\n",
       "      <td>0.154000</td>\n",
       "      <td>-5.387000</td>\n",
       "      <td>0.155000</td>\n",
       "      <td>141.948000</td>\n",
       "      <td>0.740000</td>\n",
       "      <td>0.000000</td>\n",
       "      <td>7</td>\n",
       "      <td>0</td>\n",
       "      <td>2</td>\n",
       "    </tr>\n",
       "  </tbody>\n",
       "</table>\n",
       "</div>"
      ],
      "text/plain": [
       "                                             artists  acousticness  \\\n",
       "0                   \"Cats\" 1981 Original London Cast      0.598500   \n",
       "1                          \"Cats\" 1983 Broadway Cast      0.862538   \n",
       "2        \"Fiddler On The Roof” Motion Picture Chorus      0.856571   \n",
       "3     \"Fiddler On The Roof” Motion Picture Orchestra      0.884926   \n",
       "4  \"Joseph And The Amazing Technicolor Dreamcoat\"...      0.510714   \n",
       "5  \"Joseph And The Amazing Technicolor Dreamcoat\"...      0.591167   \n",
       "6                             \"Mama\" Helen Teagarden      0.725000   \n",
       "7                            \"Test for Victor Young\"      0.927000   \n",
       "8                                \"Weird Al\" Yankovic      0.186821   \n",
       "9                                             $0dg0d      0.110000   \n",
       "\n",
       "   danceability    duration_ms    energy  instrumentalness  liveness  \\\n",
       "0      0.470100  267072.000000  0.376203          0.010261  0.283050   \n",
       "1      0.441731  287280.000000  0.406808          0.081158  0.315215   \n",
       "2      0.348286  328920.000000  0.286571          0.024593  0.325786   \n",
       "3      0.425074  262890.962963  0.245770          0.073587  0.275481   \n",
       "4      0.467143  270436.142857  0.488286          0.009400  0.195000   \n",
       "5      0.484333  218504.500000  0.300608          0.007042  0.176067   \n",
       "6      0.637000  135533.000000  0.512000          0.186000  0.426000   \n",
       "7      0.734000  175693.000000  0.474000          0.076200  0.737000   \n",
       "8      0.650792  218352.962264  0.693189          0.000045  0.160926   \n",
       "9      0.732000  160171.000000  0.822000          0.000009  0.154000   \n",
       "\n",
       "    loudness  speechiness       tempo   valence  popularity  key  mode  count  \n",
       "0 -14.434300     0.209150  114.128800  0.358320   38.200000    5     1     10  \n",
       "1 -10.690000     0.176212  103.044154  0.268865   31.538462    5     1     26  \n",
       "2 -15.230714     0.118514   77.375857  0.354857   34.571429    0     1      7  \n",
       "3 -15.639370     0.123200   88.667630  0.372030   34.407407    0     1     27  \n",
       "4 -10.236714     0.098543  122.835857  0.482286   42.000000    5     1      7  \n",
       "5 -18.579500     0.104958  122.517833  0.424500   33.166667    9     1     24  \n",
       "6 -20.615000     0.210000  134.819000  0.885000    0.000000    8     1      2  \n",
       "7 -10.544000     0.256000  132.788000  0.902000    3.000000   10     1      2  \n",
       "8  -9.691151     0.082275  132.876604  0.764585   32.867925    9     1    106  \n",
       "9  -5.387000     0.155000  141.948000  0.740000    0.000000    7     0      2  "
      ]
     },
     "execution_count": 6,
     "metadata": {},
     "output_type": "execute_result"
    }
   ],
   "source": [
    "df"
   ]
  },
  {
   "cell_type": "code",
   "execution_count": 7,
   "id": "flexible-serum",
   "metadata": {},
   "outputs": [
    {
     "data": {
      "text/plain": [
       "10"
      ]
     },
     "execution_count": 7,
     "metadata": {},
     "output_type": "execute_result"
    }
   ],
   "source": [
    "df.artists.count()"
   ]
  },
  {
   "cell_type": "code",
   "execution_count": 8,
   "id": "increasing-catch",
   "metadata": {},
   "outputs": [
    {
     "data": {
      "text/html": [
       "<div>\n",
       "<style scoped>\n",
       "    .dataframe tbody tr th:only-of-type {\n",
       "        vertical-align: middle;\n",
       "    }\n",
       "\n",
       "    .dataframe tbody tr th {\n",
       "        vertical-align: top;\n",
       "    }\n",
       "\n",
       "    .dataframe thead th {\n",
       "        text-align: right;\n",
       "    }\n",
       "</style>\n",
       "<table border=\"1\" class=\"dataframe\">\n",
       "  <thead>\n",
       "    <tr style=\"text-align: right;\">\n",
       "      <th></th>\n",
       "      <th>artists</th>\n",
       "      <th>danceability</th>\n",
       "      <th>duration_ms</th>\n",
       "      <th>energy</th>\n",
       "    </tr>\n",
       "  </thead>\n",
       "  <tbody>\n",
       "    <tr>\n",
       "      <th>0</th>\n",
       "      <td>\"Cats\" 1981 Original London Cast</td>\n",
       "      <td>0.470100</td>\n",
       "      <td>267072.000000</td>\n",
       "      <td>0.376203</td>\n",
       "    </tr>\n",
       "    <tr>\n",
       "      <th>1</th>\n",
       "      <td>\"Cats\" 1983 Broadway Cast</td>\n",
       "      <td>0.441731</td>\n",
       "      <td>287280.000000</td>\n",
       "      <td>0.406808</td>\n",
       "    </tr>\n",
       "    <tr>\n",
       "      <th>2</th>\n",
       "      <td>\"Fiddler On The Roof” Motion Picture Chorus</td>\n",
       "      <td>0.348286</td>\n",
       "      <td>328920.000000</td>\n",
       "      <td>0.286571</td>\n",
       "    </tr>\n",
       "    <tr>\n",
       "      <th>3</th>\n",
       "      <td>\"Fiddler On The Roof” Motion Picture Orchestra</td>\n",
       "      <td>0.425074</td>\n",
       "      <td>262890.962963</td>\n",
       "      <td>0.245770</td>\n",
       "    </tr>\n",
       "    <tr>\n",
       "      <th>4</th>\n",
       "      <td>\"Joseph And The Amazing Technicolor Dreamcoat\"...</td>\n",
       "      <td>0.467143</td>\n",
       "      <td>270436.142857</td>\n",
       "      <td>0.488286</td>\n",
       "    </tr>\n",
       "    <tr>\n",
       "      <th>5</th>\n",
       "      <td>\"Joseph And The Amazing Technicolor Dreamcoat\"...</td>\n",
       "      <td>0.484333</td>\n",
       "      <td>218504.500000</td>\n",
       "      <td>0.300608</td>\n",
       "    </tr>\n",
       "    <tr>\n",
       "      <th>6</th>\n",
       "      <td>\"Mama\" Helen Teagarden</td>\n",
       "      <td>0.637000</td>\n",
       "      <td>135533.000000</td>\n",
       "      <td>0.512000</td>\n",
       "    </tr>\n",
       "    <tr>\n",
       "      <th>7</th>\n",
       "      <td>\"Test for Victor Young\"</td>\n",
       "      <td>0.734000</td>\n",
       "      <td>175693.000000</td>\n",
       "      <td>0.474000</td>\n",
       "    </tr>\n",
       "    <tr>\n",
       "      <th>8</th>\n",
       "      <td>\"Weird Al\" Yankovic</td>\n",
       "      <td>0.650792</td>\n",
       "      <td>218352.962264</td>\n",
       "      <td>0.693189</td>\n",
       "    </tr>\n",
       "    <tr>\n",
       "      <th>9</th>\n",
       "      <td>$0dg0d</td>\n",
       "      <td>0.732000</td>\n",
       "      <td>160171.000000</td>\n",
       "      <td>0.822000</td>\n",
       "    </tr>\n",
       "  </tbody>\n",
       "</table>\n",
       "</div>"
      ],
      "text/plain": [
       "                                             artists  danceability  \\\n",
       "0                   \"Cats\" 1981 Original London Cast      0.470100   \n",
       "1                          \"Cats\" 1983 Broadway Cast      0.441731   \n",
       "2        \"Fiddler On The Roof” Motion Picture Chorus      0.348286   \n",
       "3     \"Fiddler On The Roof” Motion Picture Orchestra      0.425074   \n",
       "4  \"Joseph And The Amazing Technicolor Dreamcoat\"...      0.467143   \n",
       "5  \"Joseph And The Amazing Technicolor Dreamcoat\"...      0.484333   \n",
       "6                             \"Mama\" Helen Teagarden      0.637000   \n",
       "7                            \"Test for Victor Young\"      0.734000   \n",
       "8                                \"Weird Al\" Yankovic      0.650792   \n",
       "9                                             $0dg0d      0.732000   \n",
       "\n",
       "     duration_ms    energy  \n",
       "0  267072.000000  0.376203  \n",
       "1  287280.000000  0.406808  \n",
       "2  328920.000000  0.286571  \n",
       "3  262890.962963  0.245770  \n",
       "4  270436.142857  0.488286  \n",
       "5  218504.500000  0.300608  \n",
       "6  135533.000000  0.512000  \n",
       "7  175693.000000  0.474000  \n",
       "8  218352.962264  0.693189  \n",
       "9  160171.000000  0.822000  "
      ]
     },
     "execution_count": 8,
     "metadata": {},
     "output_type": "execute_result"
    }
   ],
   "source": [
    "relacion = df[['artists','danceability','duration_ms','energy']]\n",
    "relacion.head(10)"
   ]
  },
  {
   "cell_type": "markdown",
   "id": "arabic-feeding",
   "metadata": {},
   "source": [
    "# Datos que indentifiquen las variables.\n",
    "## Para identificar las variables de la media, mediana, varianza, valor maximo y minimo. se utiliza los siguientes comandos."
   ]
  },
  {
   "cell_type": "code",
   "execution_count": 9,
   "id": "appointed-configuration",
   "metadata": {},
   "outputs": [
    {
     "data": {
      "text/plain": [
       "acousticness             0.625324\n",
       "danceability             0.539046\n",
       "duration_ms         232485.356808\n",
       "energy                   0.460544\n",
       "instrumentalness         0.046830\n",
       "liveness                 0.304853\n",
       "loudness               -13.104775\n",
       "speechiness              0.153385\n",
       "tempo                  117.100173\n",
       "valence                  0.555244\n",
       "popularity              24.975189\n",
       "key                      5.800000\n",
       "mode                     0.900000\n",
       "count                   21.300000\n",
       "dtype: float64"
      ]
     },
     "execution_count": 9,
     "metadata": {},
     "output_type": "execute_result"
    }
   ],
   "source": [
    "media = df.mean()\n",
    "media"
   ]
  },
  {
   "cell_type": "code",
   "execution_count": 10,
   "id": "least-shore",
   "metadata": {},
   "outputs": [
    {
     "name": "stdout",
     "output_type": "stream",
     "text": [
      "acousticness             0.661750\n",
      "danceability             0.477217\n",
      "duration_ms         240697.731481\n",
      "energy                   0.440404\n",
      "instrumentalness         0.017427\n",
      "liveness                 0.279266\n",
      "loudness               -12.562150\n",
      "speechiness              0.139100\n",
      "tempo                  122.676845\n",
      "valence                  0.453393\n",
      "popularity              33.017296\n",
      "key                      6.000000\n",
      "mode                     1.000000\n",
      "count                    8.500000\n",
      "dtype: float64\n"
     ]
    }
   ],
   "source": [
    "mediana = df.median()\n",
    "print (mediana)"
   ]
  },
  {
   "cell_type": "code",
   "execution_count": 11,
   "id": "ethical-flight",
   "metadata": {},
   "outputs": [
    {
     "data": {
      "text/plain": [
       "acousticness        8.343874e-02\n",
       "danceability        1.878744e-02\n",
       "duration_ms         3.790309e+09\n",
       "energy              3.337188e-02\n",
       "instrumentalness    3.480239e-03\n",
       "liveness            3.060404e-02\n",
       "loudness            2.121321e+01\n",
       "speechiness         3.322773e-03\n",
       "tempo               4.534951e+02\n",
       "valence             5.820758e-02\n",
       "popularity          2.831884e+02\n",
       "key                 1.262222e+01\n",
       "mode                1.000000e-01\n",
       "count               9.877889e+02\n",
       "dtype: float64"
      ]
     },
     "execution_count": 11,
     "metadata": {},
     "output_type": "execute_result"
    }
   ],
   "source": [
    "varianza = df.var()\n",
    "varianza"
   ]
  },
  {
   "cell_type": "code",
   "execution_count": 12,
   "id": "dense-hayes",
   "metadata": {},
   "outputs": [
    {
     "data": {
      "text/plain": [
       "artists               $0dg0d\n",
       "acousticness           0.927\n",
       "danceability           0.734\n",
       "duration_ms         328920.0\n",
       "energy                 0.822\n",
       "instrumentalness       0.186\n",
       "liveness               0.737\n",
       "loudness              -5.387\n",
       "speechiness            0.256\n",
       "tempo                141.948\n",
       "valence                0.902\n",
       "popularity              42.0\n",
       "key                       10\n",
       "mode                       1\n",
       "count                    106\n",
       "dtype: object"
      ]
     },
     "execution_count": 12,
     "metadata": {},
     "output_type": "execute_result"
    }
   ],
   "source": [
    "maximo = df.max()\n",
    "maximo"
   ]
  },
  {
   "cell_type": "code",
   "execution_count": 13,
   "id": "handmade-recipe",
   "metadata": {},
   "outputs": [
    {
     "data": {
      "text/plain": [
       "artists             \"Cats\" 1981 Original London Cast\n",
       "acousticness                                    0.11\n",
       "danceability                                0.348286\n",
       "duration_ms                                 135533.0\n",
       "energy                                       0.24577\n",
       "instrumentalness                            0.000009\n",
       "liveness                                       0.154\n",
       "loudness                                     -20.615\n",
       "speechiness                                 0.082275\n",
       "tempo                                      77.375857\n",
       "valence                                     0.268865\n",
       "popularity                                       0.0\n",
       "key                                                0\n",
       "mode                                               0\n",
       "count                                              2\n",
       "dtype: object"
      ]
     },
     "execution_count": 13,
     "metadata": {},
     "output_type": "execute_result"
    }
   ],
   "source": [
    "minimo = df.min()\n",
    "minimo"
   ]
  },
  {
   "cell_type": "markdown",
   "id": "convertible-chorus",
   "metadata": {},
   "source": [
    "# ¿Cuales valores pueden tener una relacion lineal positiva, demuestre y diga el porque lo consideran asi?\n",
    "## Método estadístico que trata de modelar la relación entre una variable continua y una o más variables independientes mediante el ajuste de una ecuación lineal. Se debe la relacion ya que son 3 columnas principales porque se estan a una misma direccion y tienen relacion ya que no pueden dependerse de 1 sola sino de ellas mismas"
   ]
  },
  {
   "cell_type": "code",
   "execution_count": 14,
   "id": "banner-lincoln",
   "metadata": {},
   "outputs": [],
   "source": [
    "import pandas as pd\n",
    "df = pd.read_csv('Examen/data_by_artist.csv')\n",
    "import matplotlib.pyplot as plt\n",
    "%matplotlib inline\n",
    "import numpy as np\n",
    "import seaborn as sns\n",
    "from matplotlib import pyplot as plt \n",
    "%matplotlib inline"
   ]
  },
  {
   "cell_type": "code",
   "execution_count": 15,
   "id": "traditional-furniture",
   "metadata": {},
   "outputs": [
    {
     "name": "stdout",
     "output_type": "stream",
     "text": [
      "(32539, 15)\n"
     ]
    },
    {
     "data": {
      "text/plain": [
       "Index(['artists', 'acousticness', 'danceability', 'duration_ms', 'energy',\n",
       "       'instrumentalness', 'liveness', 'loudness', 'speechiness', 'tempo',\n",
       "       'valence', 'popularity', 'key', 'mode', 'count'],\n",
       "      dtype='object')"
      ]
     },
     "execution_count": 15,
     "metadata": {},
     "output_type": "execute_result"
    }
   ],
   "source": [
    "print (df.shape)\n",
    "df.columns"
   ]
  },
  {
   "cell_type": "code",
   "execution_count": 16,
   "id": "tender-council",
   "metadata": {},
   "outputs": [
    {
     "data": {
      "text/plain": [
       "<seaborn.axisgrid.PairGrid at 0x7f4819808be0>"
      ]
     },
     "execution_count": 16,
     "metadata": {},
     "output_type": "execute_result"
    },
    {
     "data": {
      "image/png": "[encoded data removed]",
      "text/plain": [
       "<Figure size 540x540 with 12 Axes>"
      ]
     },
     "metadata": {
      "needs_background": "light"
     },
     "output_type": "display_data"
    }
   ],
   "source": [
    "sns.pairplot(relacion, kind = 'reg')"
   ]
  },
  {
   "cell_type": "code",
   "execution_count": null,
   "id": "exclusive-secretariat",
   "metadata": {},
   "outputs": [],
   "source": []
  }
 ],
 "metadata": {
  "kernelspec": {
   "display_name": "Python 3",
   "language": "python",
   "name": "python3"
  },
  "language_info": {
   "codemirror_mode": {
    "name": "ipython",
    "version": 3
   },
   "file_extension": ".py",
   "mimetype": "text/x-python",
   "name": "python",
   "nbconvert_exporter": "python",
   "pygments_lexer": "ipython3",
   "version": "3.8.5"
  }
 },
 "nbformat": 4,
 "nbformat_minor": 5
}
